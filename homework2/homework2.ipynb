{
 "cells": [
  {
   "cell_type": "markdown",
   "metadata": {},
   "source": [
    "# Homework 2 - Berkeley STAT 157\n",
    "\n",
    "Handout 1/29/2019, due 2/5/2019 by 4pm in Git by committing to your repository."
   ]
  },
  {
   "cell_type": "code",
   "execution_count": 1,
   "metadata": {
    "ExecuteTime": {
     "end_time": "2019-02-05T08:06:49.021173Z",
     "start_time": "2019-02-05T08:06:46.633700Z"
    }
   },
   "outputs": [],
   "source": [
    "from mxnet import nd, autograd, gluon\n",
    "import numpy as np\n",
    "from matplotlib import pyplot as plt\n",
    "import string"
   ]
  },
  {
   "cell_type": "markdown",
   "metadata": {
    "ExecuteTime": {
     "end_time": "2019-01-29T19:41:18.204791Z",
     "start_time": "2019-01-29T19:41:18.201091Z"
    }
   },
   "source": [
    "# 1. Multinomial Sampling\n",
    "\n",
    "Implement a sampler from a discrete distribution from scratch, mimicking the function `mxnet.ndarray.random.multinomial`. Its arguments should be a vector of probabilities $p$. You can assume that the probabilities are normalized, i.e. tha they sum up to $1$. Make the call signature as follows:\n",
    "\n",
    "```\n",
    "samples = sampler(probs, shape) \n",
    "\n",
    "probs   : An ndarray vector of size n of nonnegative numbers summing up to 1\n",
    "shape   : A list of dimensions for the output\n",
    "samples : Samples from probs with shape matching shape\n",
    "```\n",
    "\n",
    "Hints:\n",
    "\n",
    "1. Use `mxnet.ndarray.random.uniform` to get a sample from $U[0,1]$.\n",
    "1. You can simplify things for `probs` by computing the cumulative sum over `probs`."
   ]
  },
  {
   "cell_type": "code",
   "execution_count": 168,
   "metadata": {
    "ExecuteTime": {
     "end_time": "2019-02-05T20:39:06.485844Z",
     "start_time": "2019-02-05T20:39:06.468300Z"
    }
   },
   "outputs": [
    {
     "data": {
      "text/plain": [
       "\n",
       "[[2. 2. 1.]\n",
       " [1. 0. 1.]]\n",
       "<NDArray 2x3 @cpu(0)>"
      ]
     },
     "execution_count": 168,
     "metadata": {},
     "output_type": "execute_result"
    }
   ],
   "source": [
    "def sampler(probs, shape):\n",
    "    n = shape[0] * shape[1]\n",
    "    sampled = nd.random.uniform(0, 1, n).reshape(shape)\n",
    "    check = nd.zeros(shape)\n",
    "    for prob in np.cumsum(probs):\n",
    "        check += (sampled >= prob)\n",
    "    return check  \n",
    "\n",
    "# a simple test\n",
    "sampler(nd.array([0.2, 0.3, 0.5]), (2, 3))"
   ]
  },
  {
   "cell_type": "markdown",
   "metadata": {},
   "source": [
    "# 2. Central Limit Theorem\n",
    "\n",
    "Let's explore the Central Limit Theorem when applied to text processing. \n",
    "\n",
    "* Download [https://www.gutenberg.org/ebooks/84](https://www.gutenberg.org/files/84/84-0.txt) from Project Gutenberg \n",
    "* Remove punctuation, uppercase / lowercase, and split the text up into individual tokens (words).\n",
    "* For the words `a`, `and`, `the`, `i`, `is` compute their respective counts as the book progresses, i.e. \n",
    "    $$n_\\mathrm{the}[i] = \\sum_{j = 1}^i \\{w_j = \\mathrm{the}\\}$$\n",
    "* Plot the proportions $n_\\mathrm{word}[i] / i$ over the document in one plot.\n",
    "* Find an envelope of the shape $O(1/\\sqrt{i})$ for each of these five words.\n",
    "* Why can we **not** apply the Central Limit Theorem directly? \n",
    "* How would we have to change the text for it to apply? \n",
    "* Why does it still work quite well?"
   ]
  },
  {
   "cell_type": "code",
   "execution_count": 3,
   "metadata": {
    "ExecuteTime": {
     "end_time": "2019-02-05T08:06:50.697591Z",
     "start_time": "2019-02-05T08:06:50.686349Z"
    }
   },
   "outputs": [
    {
     "name": "stdout",
     "output_type": "stream",
     "text": [
      "﻿\n",
      "Project Gutenberg's Frankenstein, by Mary Wollstonecraft (Godwin) Shelley\n",
      "\n",
      "This eBook is for the u\n"
     ]
    }
   ],
   "source": [
    "filename = gluon.utils.download('https://www.gutenberg.org/files/84/84-0.txt')\n",
    "with open(filename) as f:\n",
    "    book = f.read()\n",
    "print(book[0:100])"
   ]
  },
  {
   "cell_type": "code",
   "execution_count": 4,
   "metadata": {
    "ExecuteTime": {
     "end_time": "2019-02-05T08:06:51.584216Z",
     "start_time": "2019-02-05T08:06:51.472436Z"
    },
    "scrolled": false
   },
   "outputs": [],
   "source": [
    "# part 1\n",
    "exclude = set(string.punctuation)\n",
    "\n",
    "lowered_book = book.lower()\n",
    "no_punctuation = \"\".join(ch for ch in lowered_book if ch not in exclude)\n",
    "words = no_punctuation.split()"
   ]
  },
  {
   "cell_type": "code",
   "execution_count": 5,
   "metadata": {
    "ExecuteTime": {
     "end_time": "2019-02-05T08:06:52.182026Z",
     "start_time": "2019-02-05T08:06:51.995668Z"
    },
    "scrolled": false
   },
   "outputs": [],
   "source": [
    "# part 2\n",
    "a_counts = np.arange(len(words))\n",
    "and_counts = np.arange(len(words))\n",
    "the_counts = np.arange(len(words))\n",
    "i_counts = np.arange(len(words))\n",
    "is_counts = np.arange(len(words))\n",
    "\n",
    "for i in range(len(words)):\n",
    "    a_counts[i] = (words[i] == \"a\")\n",
    "    and_counts[i] = (words[i] == \"and\")\n",
    "    the_counts[i] = (words[i] == \"the\")\n",
    "    i_counts[i] = (words[i] == \"i\")\n",
    "    is_counts[i] = (words[i] == \"is\")"
   ]
  },
  {
   "cell_type": "code",
   "execution_count": 128,
   "metadata": {
    "ExecuteTime": {
     "end_time": "2019-02-05T18:02:48.958556Z",
     "start_time": "2019-02-05T18:02:48.266545Z"
    },
    "scrolled": false
   },
   "outputs": [
    {
     "data": {
      "image/png": "[encoded data removed]",
      "text/plain": [
       "<Figure size 432x288 with 1 Axes>"
      ]
     },
     "metadata": {
      "needs_background": "light"
     },
     "output_type": "display_data"
    }
   ],
   "source": [
    "# part 3\n",
    "range_n = np.arange(1, len(words) + 1)\n",
    "\n",
    "prop_a = np.cumsum(a_counts)/range_n\n",
    "prop_and = np.cumsum(and_counts)/range_n\n",
    "prop_the = np.cumsum(the_counts)/range_n\n",
    "prop_i = np.cumsum(i_counts)/range_n\n",
    "prop_is = np.cumsum(is_counts)/range_n\n",
    "\n",
    "# part 4\n",
    "plt.semilogx(range_n, prop_a)\n",
    "plt.semilogx(range_n, prop_and)\n",
    "plt.semilogx(range_n, prop_the)\n",
    "plt.semilogx(range_n, prop_i)\n",
    "plt.semilogx(range_n, prop_is)\n",
    "plt.show()"
   ]
  },
  {
   "cell_type": "markdown",
   "metadata": {},
   "source": [
    "## part 5"
   ]
  },
  {
   "cell_type": "code",
   "execution_count": 15,
   "metadata": {
    "ExecuteTime": {
     "end_time": "2019-02-05T08:15:47.448721Z",
     "start_time": "2019-02-05T08:15:46.832700Z"
    }
   },
   "outputs": [
    {
     "data": {
      "image/png": "[encoded data removed]",
      "text/plain": [
       "<Figure size 432x288 with 1 Axes>"
      ]
     },
     "metadata": {
      "needs_background": "light"
     },
     "output_type": "display_data"
    }
   ],
   "source": [
    "m_a = prop_a[-1]\n",
    "var_a = m_a - m_a**2\n",
    "\n",
    "y = np.arange(1, len(words)+1).reshape(len(words),1)\n",
    "plt.semilogx(y, prop_a)\n",
    "\n",
    "plt.semilogx(y,(var_a**0.5) * np.power(y,-0.5) + m_a,'r')\n",
    "plt.semilogx(y,-(var_a**0.5) * np.power(y,-0.5) + m_a,'r')\n",
    "plt.show()"
   ]
  },
  {
   "cell_type": "code",
   "execution_count": 11,
   "metadata": {
    "ExecuteTime": {
     "end_time": "2019-02-05T08:13:33.891915Z",
     "start_time": "2019-02-05T08:13:33.333744Z"
    },
    "scrolled": true
   },
   "outputs": [
    {
     "data": {
      "image/png": "[encoded data removed]",
      "text/plain": [
       "<Figure size 432x288 with 1 Axes>"
      ]
     },
     "metadata": {
      "needs_background": "light"
     },
     "output_type": "display_data"
    }
   ],
   "source": [
    "m_and = prop_and[-1]\n",
    "var_and = m_and - m_and**2\n",
    "\n",
    "plt.semilogx(y, prop_and)\n",
    "\n",
    "plt.semilogx(y,(var_and**0.5) * np.power(y,-0.5) + m_and,'r')\n",
    "plt.semilogx(y,-(var_and**0.5) * np.power(y,-0.5) + m_and,'r')\n",
    "plt.show()"
   ]
  },
  {
   "cell_type": "code",
   "execution_count": 12,
   "metadata": {
    "ExecuteTime": {
     "end_time": "2019-02-05T08:14:37.797469Z",
     "start_time": "2019-02-05T08:14:37.161645Z"
    },
    "scrolled": true
   },
   "outputs": [
    {
     "data": {
      "image/png": "[encoded data removed]",
      "text/plain": [
       "<Figure size 432x288 with 1 Axes>"
      ]
     },
     "metadata": {
      "needs_background": "light"
     },
     "output_type": "display_data"
    }
   ],
   "source": [
    "m_the = prop_and[-1]\n",
    "var_the = m_the - m_the**2\n",
    "\n",
    "plt.semilogx(y, prop_the)\n",
    "\n",
    "plt.semilogx(y,(var_the**0.5) * np.power(y,-0.5) + m_the,'r')\n",
    "plt.semilogx(y,-(var_the**0.5) * np.power(y,-0.5) + m_the,'r')\n",
    "plt.show()"
   ]
  },
  {
   "cell_type": "code",
   "execution_count": 13,
   "metadata": {
    "ExecuteTime": {
     "end_time": "2019-02-05T08:15:11.393469Z",
     "start_time": "2019-02-05T08:15:10.798109Z"
    },
    "scrolled": true
   },
   "outputs": [
    {
     "data": {
      "image/png": "[encoded data removed]",
      "text/plain": [
       "<Figure size 432x288 with 1 Axes>"
      ]
     },
     "metadata": {
      "needs_background": "light"
     },
     "output_type": "display_data"
    }
   ],
   "source": [
    "m_i = prop_i[-1]\n",
    "var_i = m_i - m_i**2\n",
    "\n",
    "plt.semilogx(y, prop_i)\n",
    "\n",
    "plt.semilogx(y,(var_i**0.5) * np.power(y,-0.5) + m_i,'r')\n",
    "plt.semilogx(y,-(var_i**0.5) * np.power(y,-0.5) + m_i,'r')\n",
    "plt.show()"
   ]
  },
  {
   "cell_type": "code",
   "execution_count": 14,
   "metadata": {
    "ExecuteTime": {
     "end_time": "2019-02-05T08:15:31.647291Z",
     "start_time": "2019-02-05T08:15:31.071604Z"
    },
    "scrolled": true
   },
   "outputs": [
    {
     "data": {
      "image/png": "[encoded data removed]",
      "text/plain": [
       "<Figure size 432x288 with 1 Axes>"
      ]
     },
     "metadata": {
      "needs_background": "light"
     },
     "output_type": "display_data"
    }
   ],
   "source": [
    "m_is = prop_is[-1]\n",
    "var_is = m_is - m_is**2\n",
    "\n",
    "plt.semilogx(y, prop_is)\n",
    "\n",
    "plt.semilogx(y,(var_is**0.5) * np.power(y,-0.5) + m_is,'r')\n",
    "plt.semilogx(y,-(var_is**0.5) * np.power(y,-0.5) + m_is,'r')\n",
    "plt.show()"
   ]
  },
  {
   "cell_type": "markdown",
   "metadata": {},
   "source": [
    "## part 6\n",
    "\n",
    "we cannot apply the central limit theorem directly because the normal distribution is not discrete, its density is infinite and not representative of this specific multinomial distribution."
   ]
  },
  {
   "cell_type": "markdown",
   "metadata": {},
   "source": [
    "## part 7\n",
    "\n",
    "**suggestion 1)** use proportions of each word (which is equivalent to their mean/expected value), and let P(all other words) = 1 - sum(P(our 5 words)) and generate 80000 random uniform numbers from 0 to 1 like in the first problem. then, calculate their relative frequencies that way.\n",
    "\n",
    "            \n",
    "**suggestion 2)** we could randomize the order of the words, so that they are not dependent on each other.\n",
    "\n",
    "**suggestion 3)** split each word up like how i did in part 5, so that each distribution revolves around one mean."
   ]
  },
  {
   "cell_type": "markdown",
   "metadata": {},
   "source": [
    "## part 8\n",
    "this distribution still works out fine because it still converges to the mean/expected value approximately due to n being pretty large **(~ 80000)**."
   ]
  },
  {
   "cell_type": "markdown",
   "metadata": {},
   "source": [
    "## 3. Denominator-layout notation\n",
    "\n",
    "We used the numerator-layout notation for matrix calculus in class, now let's examine the denominator-layout notation.\n",
    "\n",
    "Given $x, y\\in\\mathbb R$, $\\mathbf x\\in\\mathbb R^n$ and $\\mathbf y \\in \\mathbb R^m$, we have\n",
    "\n",
    "$$\n",
    "\\frac{\\partial y}{\\partial \\mathbf{x}}=\\begin{bmatrix}\n",
    "\\frac{\\partial y}{\\partial x_1}\\\\\n",
    "\\frac{\\partial y}{\\partial x_2}\\\\\n",
    "\\vdots\\\\\n",
    "\\frac{\\partial y}{\\partial x_n}\n",
    "\\end{bmatrix},\\quad \n",
    "\\frac{\\partial \\mathbf y}{\\partial {x}}=\\begin{bmatrix}\n",
    "\\frac{\\partial y_1}{\\partial x}, \n",
    "\\frac{\\partial y_2}{\\partial x}, \n",
    "\\ldots,\n",
    "\\frac{\\partial y_m}{\\partial x}\n",
    "\\end{bmatrix}\n",
    "$$\n",
    "\n",
    "and \n",
    "\n",
    "$$\n",
    "\\frac{\\partial \\mathbf y}{\\partial \\mathbf{x}}\n",
    "=\\begin{bmatrix}\n",
    "\\frac{\\partial \\mathbf y}{\\partial {x_1}}\\\\\n",
    "\\frac{\\partial \\mathbf y}{\\partial {x_2}}\\\\\n",
    "\\vdots\\\\\n",
    "\\frac{\\partial \\mathbf y}{\\partial {x_3}}\\\\\n",
    "\\end{bmatrix}\n",
    "=\\begin{bmatrix}\n",
    "\\frac{\\partial y_1}{\\partial x_1}, \n",
    "\\frac{\\partial y_2}{\\partial x_1},\n",
    "\\ldots,\n",
    "\\frac{\\partial y_m}{\\partial x_1}\n",
    "\\\\ \n",
    "\\frac{\\partial y_1}{\\partial x_2},\n",
    "\\frac{\\partial y_2}{\\partial x_2},\n",
    "\\ldots,\n",
    "\\frac{\\partial y_m}{\\partial x_2}\\\\ \n",
    "\\vdots\\\\\n",
    "\\frac{\\partial y_1}{\\partial x_n},\n",
    "\\frac{\\partial y_2}{\\partial x_n},\n",
    "\\ldots,\n",
    "\\frac{\\partial y_m}{\\partial x_n}\n",
    "\\end{bmatrix}\n",
    "$$\n",
    "\n",
    "Questions: \n",
    "\n",
    "1. Assume $\\mathbf  y = f(\\mathbf u)$ and $\\mathbf u = g(\\mathbf x)$, write down the chain rule for $\\frac {\\partial\\mathbf  y}{\\partial\\mathbf x}$\n",
    "2. Given $\\mathbf X \\in \\mathbb R^{m\\times n},\\ \\mathbf w \\in \\mathbb R^n, \\ \\mathbf y \\in \\mathbb R^m$, assume $z = \\| \\mathbf X \\mathbf w - \\mathbf y\\|^2$, compute $\\frac{\\partial z}{\\partial\\mathbf w}$."
   ]
  },
  {
   "cell_type": "markdown",
   "metadata": {},
   "source": [
    "## part 1"
   ]
  },
  {
   "cell_type": "markdown",
   "metadata": {},
   "source": [
    "$$\n",
    "\\frac {\\partial y}{\\partial\\mathbf x} = \\frac {\\partial y}{\\partial u} \\frac {\\partial u}{\\partial\\mathbf x}\n",
    "\\\\\n",
    "= \\frac {\\partial y}{\\partial u} \\begin{bmatrix}\n",
    "\\frac{\\partial u}{\\partial {x_1}}\\\\\n",
    "\\frac{\\partial u}{\\partial {x_2}}\\\\\n",
    "\\vdots\\\\\n",
    "\\frac{\\partial u}{\\partial {x_n}}\\\\\n",
    "\\end{bmatrix}\n",
    "\\\\\n",
    "$$"
   ]
  },
  {
   "cell_type": "markdown",
   "metadata": {},
   "source": [
    "## part 2"
   ]
  },
  {
   "cell_type": "markdown",
   "metadata": {},
   "source": [
    "### *decompose:*\n",
    "  \n",
    "$\\mathbf a = \\mathbf X \\mathbf w$\n",
    "\n",
    "$\\mathbf b = \\mathbf a - \\mathbf y$\n",
    "\n",
    "$\\mathbf z = \\|  \\mathbf b  \\|^2$\n",
    "   \n",
    "   \n",
    "### *compute:*\n",
    "\n",
    "$\\frac{\\partial z}{\\partial\\mathbf w} = \\frac{\\partial z}{\\partial\\mathbf b} \\frac{\\partial b}{\\partial\\mathbf a} \\frac{\\partial a}{\\partial\\mathbf w} $\n",
    "\n",
    "$ = \\frac{\\partial \\|  \\mathbf b  \\|^2}{\\partial\\mathbf b} \\frac{\\partial \\mathbf a - \\mathbf y}{\\partial\\mathbf a} \\frac{\\partial \\mathbf X \\mathbf w}{\\partial\\mathbf w} $\n",
    "\n",
    "$ = 2 \\mathbf b^T \\times \\mathbf I \\times \\mathbf X$\n",
    "\n",
    "$ = 2 ( \\mathbf X \\mathbf w - \\mathbf y )^T \\mathbf X^T$\n",
    "\n",
    "\n"
   ]
  },
  {
   "cell_type": "markdown",
   "metadata": {},
   "source": [
    "## 4. Numerical Precision\n",
    "\n",
    "Given scalars `x` and `y`, implement the following `log_exp` function such that it returns a numerically stable version of \n",
    "$$-\\log\\left(\\frac{e^x}{e^x+e^y}\\right)$$"
   ]
  },
  {
   "cell_type": "code",
   "execution_count": 121,
   "metadata": {
    "ExecuteTime": {
     "end_time": "2019-02-05T10:50:06.579538Z",
     "start_time": "2019-02-05T10:50:06.574632Z"
    }
   },
   "outputs": [],
   "source": [
    "def log_exp(x, y):\n",
    "    ## add your solution here\n",
    "    inside = nd.exp(x)/(nd.exp(x) + nd.exp(y))\n",
    "    #return inside\n",
    "    return -nd.log(inside)"
   ]
  },
  {
   "cell_type": "markdown",
   "metadata": {},
   "source": [
    "Test your codes with normal inputs:"
   ]
  },
  {
   "cell_type": "code",
   "execution_count": 122,
   "metadata": {
    "ExecuteTime": {
     "end_time": "2019-02-05T10:50:10.584536Z",
     "start_time": "2019-02-05T10:50:10.574334Z"
    },
    "scrolled": true
   },
   "outputs": [
    {
     "data": {
      "text/plain": [
       "\n",
       "[1.3132617]\n",
       "<NDArray 1 @cpu(0)>"
      ]
     },
     "execution_count": 122,
     "metadata": {},
     "output_type": "execute_result"
    }
   ],
   "source": [
    "x, y = nd.array([2]), nd.array([3])\n",
    "z = log_exp(x, y)\n",
    "z"
   ]
  },
  {
   "cell_type": "markdown",
   "metadata": {},
   "source": [
    "Now implement a function to compute $\\partial z/\\partial x$ and $\\partial z/\\partial y$ with `autograd`"
   ]
  },
  {
   "cell_type": "code",
   "execution_count": 123,
   "metadata": {
    "ExecuteTime": {
     "end_time": "2019-02-05T10:50:13.997033Z",
     "start_time": "2019-02-05T10:50:13.991724Z"
    }
   },
   "outputs": [],
   "source": [
    "def grad(forward_func, x, y): \n",
    "    ## Add your codes here\n",
    "    \n",
    "    x.attach_grad()\n",
    "    y.attach_grad()\n",
    "    \n",
    "    with autograd.record():\n",
    "        z = forward_func(x, y)\n",
    "        z.backward()\n",
    "    print('x.grad =', x.grad)\n",
    "    print('y.grad =', y.grad)"
   ]
  },
  {
   "cell_type": "markdown",
   "metadata": {},
   "source": [
    "Test your codes, it should print the results nicely. "
   ]
  },
  {
   "cell_type": "code",
   "execution_count": 124,
   "metadata": {
    "ExecuteTime": {
     "end_time": "2019-02-05T10:50:15.858225Z",
     "start_time": "2019-02-05T10:50:15.842617Z"
    },
    "scrolled": true
   },
   "outputs": [
    {
     "name": "stdout",
     "output_type": "stream",
     "text": [
      "x.grad = \n",
      "[-0.7310586]\n",
      "<NDArray 1 @cpu(0)>\n",
      "y.grad = \n",
      "[0.7310586]\n",
      "<NDArray 1 @cpu(0)>\n"
     ]
    }
   ],
   "source": [
    "grad(log_exp, x, y)"
   ]
  },
  {
   "cell_type": "markdown",
   "metadata": {},
   "source": [
    "But now let's try some \"hard\" inputs"
   ]
  },
  {
   "cell_type": "code",
   "execution_count": 126,
   "metadata": {
    "ExecuteTime": {
     "end_time": "2019-02-05T10:50:53.513046Z",
     "start_time": "2019-02-05T10:50:53.503376Z"
    },
    "scrolled": true
   },
   "outputs": [
    {
     "name": "stdout",
     "output_type": "stream",
     "text": [
      "x.grad = \n",
      "[nan]\n",
      "<NDArray 1 @cpu(0)>\n",
      "y.grad = \n",
      "[nan]\n",
      "<NDArray 1 @cpu(0)>\n"
     ]
    }
   ],
   "source": [
    "x, y = nd.array([50]), nd.array([100])\n",
    "grad(log_exp, x, y)"
   ]
  },
  {
   "cell_type": "markdown",
   "metadata": {},
   "source": [
    "Does your code return correct results? If not, try to understand the reason. (Hint, evaluate `exp(100)`). Now develop a new function `stable_log_exp` that is identical to `log_exp` in math, but returns a more numerical stable result."
   ]
  },
  {
   "cell_type": "markdown",
   "metadata": {},
   "source": [
    "### **>> doesn't work because exp(100) is too small, so my original function rounds it to zero and cannot compute log(0)**\n",
    "\n",
    "\n",
    "### >>**i expanded x & y to have a sufficient amount of digits for their decimal approximations so they wouldn't be rounded down to zero.**"
   ]
  },
  {
   "cell_type": "code",
   "execution_count": 127,
   "metadata": {
    "ExecuteTime": {
     "end_time": "2019-02-05T10:50:55.476729Z",
     "start_time": "2019-02-05T10:50:55.466480Z"
    }
   },
   "outputs": [
    {
     "name": "stdout",
     "output_type": "stream",
     "text": [
      "x.grad = \n",
      "[-1.]\n",
      "<NDArray 1 @cpu(0)>\n",
      "y.grad = \n",
      "[1.]\n",
      "<NDArray 1 @cpu(0)>\n"
     ]
    }
   ],
   "source": [
    "def stable_log_exp(x, y):\n",
    "    ## Add your codes here\n",
    "    #-x + log(e**x + e**y)\n",
    "    x_large = nd.cast(x, dtype = 'float64')\n",
    "    y_large = nd.cast(y, dtype = 'float64')\n",
    "    return -nd.log(nd.exp(x_large)/(nd.exp(x_large) + nd.exp(y_large)))\n",
    "\n",
    "grad(stable_log_exp, x, y)"
   ]
  }
 ],
 "metadata": {
  "anaconda-cloud": {},
  "kernelspec": {
   "display_name": "Python 3",
   "language": "python",
   "name": "python3"
  },
  "language_info": {
   "codemirror_mode": {
    "name": "ipython",
    "version": 3
   },
   "file_extension": ".py",
   "mimetype": "text/x-python",
   "name": "python",
   "nbconvert_exporter": "python",
   "pygments_lexer": "ipython3",
   "version": "3.6.8"
  }
 },
 "nbformat": 4,
 "nbformat_minor": 2
}
