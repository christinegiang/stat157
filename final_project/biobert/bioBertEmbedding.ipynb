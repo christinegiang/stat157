{
 "cells": [
  {
   "cell_type": "code",
   "execution_count": 1,
   "metadata": {},
   "outputs": [],
   "source": [
    "import pandas as pd\n",
    "import numpy as np"
   ]
  },
  {
   "cell_type": "code",
   "execution_count": null,
   "metadata": {},
   "outputs": [],
   "source": [
    "notes = pd.read_csv('~/payload/mimicdata/NOTEEVENTS.csv', low_memory=False)"
   ]
  },
  {
   "cell_type": "code",
   "execution_count": 1,
   "metadata": {},
   "outputs": [],
   "source": [
    "##Note: each subject_id might correspond to multiple visits to hospital "
   ]
  },
  {
   "cell_type": "code",
   "execution_count": 2,
   "metadata": {},
   "outputs": [],
   "source": [
    "notes = notes[notes['ISERROR'] != 1]\n",
    "notes.shape"
   ]
  },
  {
   "cell_type": "code",
   "execution_count": 3,
   "metadata": {},
   "outputs": [
    {
     "ename": "NameError",
     "evalue": "name 'notes' is not defined",
     "output_type": "error",
     "traceback": [
      "\u001b[0;31m---------------------------------------------------------------------------\u001b[0m",
      "\u001b[0;31mNameError\u001b[0m                                 Traceback (most recent call last)",
      "\u001b[0;32m<ipython-input-3-a4a719a2f2ab>\u001b[0m in \u001b[0;36m<module>\u001b[0;34m()\u001b[0m\n\u001b[0;32m----> 1\u001b[0;31m \u001b[0mnotes\u001b[0m \u001b[0;34m=\u001b[0m \u001b[0mnotes\u001b[0m\u001b[0;34m[\u001b[0m\u001b[0mnotes\u001b[0m\u001b[0;34m[\u001b[0m\u001b[0;34m'CATEGORY'\u001b[0m\u001b[0;34m]\u001b[0m \u001b[0;34m!=\u001b[0m \u001b[0;34m'Discharge summary'\u001b[0m\u001b[0;34m]\u001b[0m \u001b[0;31m## drop discharge notes\u001b[0m\u001b[0;34m\u001b[0m\u001b[0m\n\u001b[0m\u001b[1;32m      2\u001b[0m \u001b[0mnotes\u001b[0m \u001b[0;34m=\u001b[0m \u001b[0mnotes\u001b[0m\u001b[0;34m[\u001b[0m\u001b[0mnotes\u001b[0m\u001b[0;34m[\u001b[0m\u001b[0;34m'CATEGORY'\u001b[0m\u001b[0;34m]\u001b[0m \u001b[0;34m!=\u001b[0m \u001b[0;34m'Nursing/other'\u001b[0m\u001b[0;34m]\u001b[0m\u001b[0;34m\u001b[0m\u001b[0m\n\u001b[1;32m      3\u001b[0m \u001b[0mnotes\u001b[0m\u001b[0;34m.\u001b[0m\u001b[0mshape\u001b[0m\u001b[0;34m\u001b[0m\u001b[0m\n",
      "\u001b[0;31mNameError\u001b[0m: name 'notes' is not defined"
     ]
    }
   ],
   "source": [
    "notes = notes[notes['CATEGORY'] != 'Discharge summary'] ## drop discharge notes\n",
    "notes = notes[notes['CATEGORY'] != 'Nursing/other']\n",
    "notes.shape"
   ]
  },
  {
   "cell_type": "code",
   "execution_count": 73,
   "metadata": {},
   "outputs": [],
   "source": [
    "## There are 46146 patients, 2083180 recordings\n",
    "data = notes[['SUBJECT_ID', 'HADM_ID', 'CHARTDATE', 'TEXT']]"
   ]
  },
  {
   "cell_type": "code",
   "execution_count": null,
   "metadata": {},
   "outputs": [],
   "source": []
  },
  {
   "cell_type": "code",
   "execution_count": 75,
   "metadata": {},
   "outputs": [],
   "source": [
    "##Note: group by visits, otherwise would be \"cheating\": predict a patient's LoS based on\n",
    "## their fourth visits \n",
    "visits = data.groupby('HADM_ID')\n",
    "#counted and got only 58361 visits \n",
    "def preprocess_notes(vst, max_len):\n",
    "    vst = vst.sort_values('CHARTDATE')  #arrange by day1,day2, day3..\n",
    "    #input VST is a dataframe of all rows in each individual visit\n",
    "    # return a new series with shorter sentences but corresponds to each day during this visit\n",
    "    df = vst['TEXT'] ##extract \"TEXT\" column as a series\n",
    "    df = df.str.replace('\\n', ' ')\n",
    "    df = df.str.replace('  ', ' ')\n",
    "    df = df.str.replace('\\*+', '')\n",
    "    df = df.str.replace('\\d+', '')\n",
    "    df = df.str.replace('_', '')\n",
    "    df = df.str.replace('-', '')\n",
    "    df = df.str.strip(\"[]\")\n",
    "    #print(df)\n",
    "    newcol = []\n",
    "    for row in df:\n",
    "        short = ''\n",
    "        lst = row.split(':')\n",
    "        lst.sort(key=len)\n",
    "        #print(lst)\n",
    "        while len(short) < max_len and lst != []:\n",
    "            short += lst.pop()\n",
    "        #short = short[0:max_len]  does each sentece have to be 512?\n",
    "        newcol.append(short)\n",
    "    newcol = pd.DataFrame({'NOTE': newcol}) \n",
    "    \n",
    "    result = vst[['SUBJECT_ID', 'HADM_ID', 'CHARTDATE']]\n",
    "    newcol= newcol.set_index(result.index)\n",
    "    \n",
    "    #newcol.apply(lambda x:str(x))\n",
    "    #print(type(newcol.iloc[0]))\n",
    "    result = pd.concat([result, newcol], axis=1)\n",
    "    result = result.set_index('HADM_ID')\n",
    "    return result"
   ]
  },
  {
   "cell_type": "code",
   "execution_count": 77,
   "metadata": {},
   "outputs": [
    {
     "data": {
      "text/plain": [
       "(969555, 3)"
      ]
     },
     "execution_count": 77,
     "metadata": {},
     "output_type": "execute_result"
    }
   ],
   "source": [
    "c = 0\n",
    "prsd = pd.DataFrame({'SUBJECT_ID':[], 'CHARTDATE':[], 'NOTE':[]})\n",
    "prsd\n",
    "for key, val in visits:\n",
    "    #print(val)\n",
    "    pro = preprocess_notes(val, 512)\n",
    "    prsd = pd.concat([prsd, pro])\n",
    "    c += 1\n",
    "\n",
    "prsd.shape\n",
    "## for each stay, we don't want repeated info over a span of days"
   ]
  },
  {
   "cell_type": "code",
   "execution_count": 79,
   "metadata": {},
   "outputs": [],
   "source": [
    "prsd.to_csv(r'processed.csv')"
   ]
  },
  {
   "cell_type": "code",
   "execution_count": 63,
   "metadata": {},
   "outputs": [
    {
     "ename": "SyntaxError",
     "evalue": "invalid syntax (<ipython-input-63-0faa062bb22a>, line 3)",
     "output_type": "error",
     "traceback": [
      "\u001b[0;36m  File \u001b[0;32m\"<ipython-input-63-0faa062bb22a>\"\u001b[0;36m, line \u001b[0;32m3\u001b[0m\n\u001b[0;31m    processed =\u001b[0m\n\u001b[0m                ^\u001b[0m\n\u001b[0;31mSyntaxError\u001b[0m\u001b[0;31m:\u001b[0m invalid syntax\n"
     ]
    }
   ],
   "source": [
    "## each person has multiple days of stay: we take 1st day, 3rd, and 6th day notes?\n",
    "max_len = 512\n",
    "processed = \n",
    "for key, val in visits:\n",
    "    pro = preprocess_notes(val, 512)\n",
    "    yo = pro\n",
    "    break\n",
    "for key, val in notes:\n",
    "    pro = preprocess_notes(val, 500)\n",
    "    yo = yo.append(pro, ignore_index=True)\n",
    "    print(8)\n",
    "    \n",
    "yo"
   ]
  },
  {
   "cell_type": "code",
   "execution_count": 83,
   "metadata": {},
   "outputs": [
    {
     "name": "stdout",
     "output_type": "stream",
     "text": [
      "[**2124-7-21**] 10:57 AM\n",
      " CHEST (PORTABLE AP)                                             Clip # [**Clip Number (Radiology) 13062**]\n",
      " Reason: ?edema\n",
      " ______________________________________________________________________________\n",
      " [**Hospital 2**] MEDICAL CONDITION:\n",
      "  87 year old woman with hx COPD, here with dyspnea acute x 2 hours, wheezing,\n",
      "  also hx chf\n",
      " REASON FOR THIS EXAMINATION:\n",
      "  ?edema\n",
      " ______________________________________________________________________________\n",
      "                                 FINAL REPORT\n",
      " PORTABLE CHEST RADIOGRAPH PERFORMED ON [**2124-7-21**].\n",
      "\n",
      " CLINICAL HISTORY:  87-year-old woman with COPD, dyspnea, wheezing, question\n",
      " CHF, pneumonia.\n",
      "\n",
      " FINDINGS:  Portable AP upright view of the chest is obtained.  Evaluation is\n",
      " limited given motion blur artifact.  There is a large retrocardiac density\n",
      " containing gas compatible with hiatal hernia, as seen on prior.  The lungs\n",
      " appear grossly clear bilaterally.  Cardiomediastinal silhouette appears\n",
      " stable.  Bony structures appear grossly intact.\n",
      "\n",
      " IMPRESSION:  Hiatal hernia, otherwise unremarkable.  Limited exam.\n",
      "\n",
      "\n",
      "\n"
     ]
    }
   ],
   "source": [
    "example = vis.iloc[2]['TEXT']\n",
    "len(example)\n",
    "print(example)"
   ]
  },
  {
   "cell_type": "code",
   "execution_count": 61,
   "metadata": {},
   "outputs": [
    {
     "name": "stdout",
     "output_type": "stream",
     "text": [
      "Case Management \n",
      "Consult\n",
      "ECG\n",
      "Echo\n",
      "General\n",
      "Nursing\n",
      "Nursing/other\n",
      "Nutrition\n",
      "Pharmacy\n",
      "Physician \n",
      "Radiology\n",
      "Rehab Services\n",
      "Respiratory \n",
      "Social Work\n"
     ]
    }
   ],
   "source": [
    "check1 = notes.groupby('CATEGORY')\n",
    "check2 = notes.groupby('DESCRIPTION')\n",
    "for name, group in check1:\n",
    "    print(name)\n",
    "    \n",
    "#for name, group in check1:\n",
    "    #print(name)\n",
    "## category can use one-hot, but description should probably embed"
   ]
  },
  {
   "cell_type": "code",
   "execution_count": null,
   "metadata": {},
   "outputs": [],
   "source": [
    "\n"
   ]
  },
  {
   "cell_type": "code",
   "execution_count": 52,
   "metadata": {},
   "outputs": [
    {
     "data": {
      "text/plain": [
       "103"
      ]
     },
     "execution_count": 52,
     "metadata": {},
     "output_type": "execute_result"
    }
   ],
   "source": [
    "yo = \"I saw and examined the pt, and was present with the ICU In short this is a [**Age over 90 **] yo female\"\n",
    "len(yo)"
   ]
  },
  {
   "cell_type": "code",
   "execution_count": null,
   "metadata": {},
   "outputs": [],
   "source": []
  }
 ],
 "metadata": {
  "kernelspec": {
   "display_name": "Python 3",
   "language": "python",
   "name": "python3"
  },
  "language_info": {
   "codemirror_mode": {
    "name": "ipython",
    "version": 3
   },
   "file_extension": ".py",
   "mimetype": "text/x-python",
   "name": "python",
   "nbconvert_exporter": "python",
   "pygments_lexer": "ipython3",
   "version": "3.7.2"
  }
 },
 "nbformat": 4,
 "nbformat_minor": 2
}
