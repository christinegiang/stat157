{
 "cells": [
  {
   "cell_type": "markdown",
   "metadata": {},
   "source": [
    "# Homework 1 - Berkeley STAT 157\n",
    "\n",
    "Handout 1/22/2017, due 1/29/2017 by 4pm in Git by committing to your repository. Please ensure that you add the TA Git account to your repository.\n",
    "\n",
    "1. Write all code in the notebook.\n",
    "1. Write all text in the notebook. You can use MathJax to insert math or generic Markdown to insert figures (it's unlikely you'll need the latter). \n",
    "1. **Execute** the notebook and **save** the results.\n",
    "1. To be safe, print the notebook as PDF and add it to the repository, too. Your repository should contain two files: ``homework1.ipynb`` and ``homework1.pdf``. \n",
    "\n",
    "The TA will return the corrected and annotated homework back to you via Git (please give `rythei` access to your repository)."
   ]
  },
  {
   "cell_type": "code",
   "execution_count": 1,
   "metadata": {},
   "outputs": [],
   "source": [
    "from mxnet import ndarray as nd"
   ]
  },
  {
   "cell_type": "markdown",
   "metadata": {},
   "source": [
    "## 1. Speedtest for vectorization\n",
    "\n",
    "Your goal is to measure the speed of linear algebra operations for different levels of vectorization. You need to use `wait_to_read()` on the output to ensure that the result is computed completely, since NDArray uses asynchronous computation. Please see http://beta.mxnet.io/api/ndarray/_autogen/mxnet.ndarray.NDArray.wait_to_read.html for details. \n",
    "\n",
    "1. Construct two matrices $A$ and $B$ with Gaussian random entries of size $4096 \\times 4096$. \n",
    "1. Compute $C = A B$ using matrix-matrix operations and report the time. \n",
    "1. Compute $C = A B$, treating $A$ as a matrix but computing the result for each column of $B$ one at a time. Report the time.\n",
    "1. Compute $C = A B$, treating $A$ and $B$ as collections of vectors. Report the time.\n",
    "1. Bonus question - what changes if you execute this on a GPU?"
   ]
  },
  {
   "cell_type": "code",
   "execution_count": 2,
   "metadata": {
    "scrolled": true
   },
   "outputs": [
    {
     "name": "stdout",
     "output_type": "stream",
     "text": [
      "\n",
      "[[   5.1015415  -26.479822    51.007053  ...   -7.666253   101.429016\n",
      "  -101.521935 ]\n",
      " [  -2.1350682   42.957554   -27.059336  ...   50.63337     29.264576\n",
      "    85.48195  ]\n",
      " [ 179.61961    104.32006    -42.85021   ...    4.7839203  -12.166644\n",
      "    33.128284 ]\n",
      " ...\n",
      " [ -19.171553   -24.856712    72.80983   ...   36.38448    -28.801601\n",
      "     8.885335 ]\n",
      " [-181.80132      2.513298    -8.9951515 ...  -78.88404    -61.0984\n",
      "   -65.812164 ]\n",
      " [  64.217995    35.151516   -58.099884  ...   39.043835    62.036263\n",
      "     1.4770873]]\n",
      "<NDArray 4096x4096 @cpu(0)>\n",
      "1.947239637374878\n"
     ]
    }
   ],
   "source": [
    "# part 1\n",
    "A = nd.normal(0, 1, shape = (4096, 4096))\n",
    "B = nd.normal(0, 1, shape = (4096, 4096))\n",
    "\n",
    "import time\n",
    "\n",
    "# part 2\n",
    "tic = time.time()\n",
    "C = nd.dot(A,B)\n",
    "print(C)\n",
    "print(time.time() - tic)"
   ]
  },
  {
   "cell_type": "code",
   "execution_count": 5,
   "metadata": {},
   "outputs": [
    {
     "name": "stdout",
     "output_type": "stream",
     "text": [
      "\n",
      "[[   5.1015415  -26.479822    51.007053  ...   -7.666253   101.429016\n",
      "  -101.521935 ]\n",
      " [  -2.1350682   42.957554   -27.059336  ...   50.63337     29.264576\n",
      "    85.48195  ]\n",
      " [ 179.61961    104.32006    -42.85021   ...    4.7839203  -12.166644\n",
      "    33.128284 ]\n",
      " ...\n",
      " [ -19.171553   -24.856712    72.80983   ...   36.38448    -28.801601\n",
      "     8.885335 ]\n",
      " [-181.80132      2.513298    -8.9951515 ...  -78.88404    -61.0984\n",
      "   -65.812164 ]\n",
      " [  64.217995    35.151516   -58.099884  ...   39.043835    62.036263\n",
      "     1.4770873]]\n",
      "<NDArray 4096x4096 @cpu(0)>\n",
      "53.83018636703491\n"
     ]
    }
   ],
   "source": [
    "# part 3\n",
    "\n",
    "import numpy as np\n",
    "\n",
    "tic = time.time()\n",
    "\n",
    "C = nd.zeros((4096, 4096))\n",
    "for i in range(4096):\n",
    "    transp = B[[np.arange(4096)], i].reshape(4096,1)\n",
    "    new_col = nd.dot(A,transp).reshape(4096,)\n",
    "    C[0:4096, i] = new_col\n",
    "\n",
    "print(C)\n",
    "print(time.time() - tic)"
   ]
  },
  {
   "cell_type": "markdown",
   "metadata": {},
   "source": [
    "# comment Q1.4 \n",
    "\n",
    "i couldn't find a solution that was efficient enough to compute in time for the deadline, so i did a 100x100 matrix instead. i know the point of the exercise was just to show how slow it is not using efficient vectorization, but i still solved the problem and i hope this will suffice. thanks!\n",
    "\n",
    "## ( - :\n"
   ]
  },
  {
   "cell_type": "code",
   "execution_count": 6,
   "metadata": {},
   "outputs": [
    {
     "name": "stdout",
     "output_type": "stream",
     "text": [
      "\n",
      "[[-12.168565    -4.50321      8.210232   ...   0.20940703 -12.027266\n",
      "   -2.3722553 ]\n",
      " [-18.157333    -0.20229495   1.0201511  ...   0.53903174  -5.057396\n",
      "    2.2450316 ]\n",
      " [ -6.4128947    4.3309937    6.790632   ...  -3.8496003   16.13936\n",
      "   -2.2113798 ]\n",
      " ...\n",
      " [ 15.365839    -7.0519075   -7.716825   ... -18.962404     0.6059242\n",
      "    0.72697425]\n",
      " [  3.2971926   25.627968   -21.552677   ...   2.0595       0.9457317\n",
      "   16.829914  ]\n",
      " [ 12.690775    -6.101557    -6.250719   ...  -0.8239009    8.9878\n",
      "   -1.5448539 ]]\n",
      "<NDArray 100x100 @cpu(0)>\n",
      "47.93808698654175\n"
     ]
    }
   ],
   "source": [
    "# part 4\n",
    "\n",
    "tic = time.time()\n",
    "\n",
    "A_100 = nd.normal(0, 1, shape = (100, 100))\n",
    "B_100 = nd.normal(0, 1, shape = (100, 100))\n",
    "\n",
    "C_100 = nd.zeros((100, 100))\n",
    "\n",
    "for j in range(100): \n",
    "    b_col = B[[np.arange(100)], j].reshape(100,1) #jth col of b  \n",
    "\n",
    "    for i in range(100):\n",
    "        a_row_i = A[i].reshape(100, 1)\n",
    "        calc = nd.zeros((100,1))\n",
    "        test = b_col*a_row_i\n",
    "        C_100[i,j] = sum(test)\n",
    "    \n",
    "print(C_100)\n",
    "print(time.time() - tic)"
   ]
  },
  {
   "cell_type": "markdown",
   "metadata": {},
   "source": [
    "## 2. Semidefinite Matrices\n",
    "\n",
    "Assume that $A \\in \\mathbb{R}^{m \\times n}$ is an arbitrary matrix and that $D \\in \\mathbb{R}^{n \\times n}$ is a diagonal matrix with nonnegative entries. \n",
    "\n",
    "1. Prove that $B = A D A^\\top$ is a positive semidefinite matrix. \n",
    "1. When would it be useful to work with $B$ and when is it better to use $A$ and $D$?"
   ]
  },
  {
   "cell_type": "markdown",
   "metadata": {},
   "source": [
    "### part 1\n",
    "\n",
    "$B = A D A^\\top$   \n",
    "\n",
    "$A^\\top B = A^\\top A D A^\\top$   \n",
    "\n",
    "$A^\\top B A = D A^\\top A$ \n",
    "\n",
    "$D = A^\\top B A$\n",
    "\n",
    "it's given that $D$ is diagonal with nonnegative entries,  therefore $D$ is a positive semidefinite matrix.\n",
    "\n",
    "and so for an arbitrary matrix $A$, if D can be decomposed as $A^\\top B A$ and is $\\geq 0$, \n",
    "$B$ is also a PSD.\n",
    "\n",
    "### part 2\n",
    "\n",
    "one might use A and D when trying to check if the eigen values for B are also nonnegative. also, calculating the determinant for D will be easier, especially if B is not diagonal. we may use B for covariance matrix."
   ]
  },
  {
   "cell_type": "markdown",
   "metadata": {},
   "source": [
    "## 3. MXNet on GPUs\n",
    "\n",
    "1. Install GPU drivers (if needed)\n",
    "1. Install MXNet on a GPU instance\n",
    "1. Display `!nvidia-smi`\n",
    "1. Create a $2 \\times 2$ matrix on the GPU and print it. See http://d2l.ai/chapter_deep-learning-computation/use-gpu.html for details."
   ]
  },
  {
   "cell_type": "code",
   "execution_count": 1,
   "metadata": {},
   "outputs": [],
   "source": [
    "import mxnet as mx"
   ]
  },
  {
   "cell_type": "code",
   "execution_count": 2,
   "metadata": {},
   "outputs": [],
   "source": [
    "from mxnet import nd"
   ]
  },
  {
   "cell_type": "code",
   "execution_count": 3,
   "metadata": {},
   "outputs": [],
   "source": [
    "from mxnet.gluon import nn"
   ]
  },
  {
   "cell_type": "code",
   "execution_count": 4,
   "metadata": {},
   "outputs": [
    {
     "data": {
      "text/plain": [
       "(cpu(0), gpu(0), gpu(1))"
      ]
     },
     "execution_count": 4,
     "metadata": {},
     "output_type": "execute_result"
    }
   ],
   "source": [
    "mx.cpu(), mx.gpu(), mx.gpu(1)"
   ]
  },
  {
   "cell_type": "code",
   "execution_count": 5,
   "metadata": {},
   "outputs": [
    {
     "data": {
      "text/plain": [
       "\n",
       "[[1. 1.]\n",
       " [1. 1.]]\n",
       "<NDArray 2x2 @gpu(0)>"
      ]
     },
     "execution_count": 5,
     "metadata": {},
     "output_type": "execute_result"
    }
   ],
   "source": [
    "x = nd.ones((2, 2), ctx = mx.gpu())\n",
    "x"
   ]
  },
  {
   "cell_type": "markdown",
   "metadata": {},
   "source": [
    "## 4. NDArray and NumPy \n",
    "\n",
    "Your goal is to measure the speed penalty between MXNet Gluon and Python when converting data between both. We are going to do this as follows:\n",
    "\n",
    "1. Create two Gaussian random matrices $A, B$ of size $4096 \\times 4096$ in NDArray. \n",
    "1. Compute a vector $\\mathbf{c} \\in \\mathbb{R}^{4096}$ where $c_i = \\|A B_{i\\cdot}\\|^2$ where $\\mathbf{c}$ is a **NumPy** vector.\n",
    "\n",
    "To see the difference in speed due to Python perform the following two experiments and measure the time:\n",
    "\n",
    "1. Compute $\\|A B_{i\\cdot}\\|^2$ one at a time and assign its outcome to $\\mathbf{c}_i$ directly.\n",
    "1. Use an intermediate storage vector $\\mathbf{d}$ in NDArray for assignments and copy to NumPy at the end."
   ]
  },
  {
   "cell_type": "code",
   "execution_count": 6,
   "metadata": {},
   "outputs": [
    {
     "data": {
      "text/plain": [
       "array([4068.9065, 4076.6711, 4124.69  , ..., 4072.759 , 4069.4392,\n",
       "       4062.4224], dtype=float32)"
      ]
     },
     "execution_count": 6,
     "metadata": {},
     "output_type": "execute_result"
    }
   ],
   "source": [
    "# part 1\n",
    "A = nd.normal(0, 1, shape = (4096, 4096))\n",
    "B = nd.normal(0, 1, shape = (4096, 4096))\n",
    "\n",
    "c = sum((nd.dot(A, B))**2) **(1/2)\n",
    "c = c.asnumpy()\n",
    "c"
   ]
  },
  {
   "cell_type": "code",
   "execution_count": 9,
   "metadata": {
    "scrolled": true
   },
   "outputs": [
    {
     "name": "stdout",
     "output_type": "stream",
     "text": [
      "[[16556000.]\n",
      " [16619247.]\n",
      " [17013068.]\n",
      " ...\n",
      " [16587366.]\n",
      " [16560336.]\n",
      " [16503276.]]\n",
      "851.4459578990936\n"
     ]
    }
   ],
   "source": [
    "# part 2\n",
    "\n",
    "tic = time.time()\n",
    "\n",
    "d = nd.zeros((4096, 1))\n",
    "product = nd.dot(A,B)\n",
    "for i in range(4096):\n",
    "    sum_sq = sum(product[0:4096, i]**2)\n",
    "    d[i] = sum_sq\n",
    "    \n",
    "c_i = d.reshape(4096, 1).asnumpy()\n",
    "\n",
    "print(c_i)\n",
    "print(time.time() - tic)"
   ]
  },
  {
   "cell_type": "code",
   "execution_count": 18,
   "metadata": {},
   "outputs": [
    {
     "data": {
      "text/plain": [
       "array([[4068.9065],\n",
       "       [4076.6711],\n",
       "       [4124.69  ],\n",
       "       ...,\n",
       "       [4072.759 ],\n",
       "       [4069.4392],\n",
       "       [4062.4224]], dtype=float32)"
      ]
     },
     "execution_count": 18,
     "metadata": {},
     "output_type": "execute_result"
    }
   ],
   "source": [
    "c_i = (d.reshape(4096,1).asnumpy())**(1/2)\n",
    "c_i"
   ]
  },
  {
   "cell_type": "markdown",
   "metadata": {},
   "source": [
    "## 5. Memory efficient computation\n",
    "\n",
    "We want to compute $C \\leftarrow A \\cdot B + C$, where $A, B$ and $C$ are all matrices. Implement this in the most memory efficient manner. Pay attention to the following two things:\n",
    "\n",
    "1. Do not allocate new memory for the new value of $C$.\n",
    "1. Do not allocate new memory for intermediate results if possible."
   ]
  },
  {
   "cell_type": "code",
   "execution_count": 19,
   "metadata": {},
   "outputs": [
    {
     "data": {
      "text/plain": [
       "\n",
       "[[ -89.2842      73.64483    -25.558414  ...   90.13895     95.803665\n",
       "  -162.3457   ]\n",
       " [ -37.078636    -6.3714905   11.097342  ...   44.199265   -45.428867\n",
       "    78.536705 ]\n",
       " [ 134.2446     214.59921     68.38664   ...  -66.71899    -20.114132\n",
       "    40.64216  ]\n",
       " ...\n",
       " [ -95.55035     41.435562   122.75974   ...   69.42801    -94.71486\n",
       "    46.208897 ]\n",
       " [-231.5051     -25.642136   -83.37668   ...  -16.456684  -135.8109\n",
       "   -83.9735   ]\n",
       " [  75.27684     -1.9213676   21.20346   ...   81.998985    -7.3830795\n",
       "   -84.509315 ]]\n",
       "<NDArray 4096x4096 @cpu(0)>"
      ]
     },
     "execution_count": 19,
     "metadata": {},
     "output_type": "execute_result"
    }
   ],
   "source": [
    "C += nd.dot(A, B)\n",
    "C"
   ]
  },
  {
   "cell_type": "markdown",
   "metadata": {},
   "source": [
    "## 6. Broadcast Operations\n",
    "\n",
    "In order to perform polynomial fitting we want to compute a design matrix $A$ with \n",
    "\n",
    "$$A_{ij} = x_i^j$$\n",
    "\n",
    "Our goal is to implement this **without a single for loop** entirely using vectorization and broadcast. Here $1 \\leq j \\leq 20$ and $x = \\{-10, -9.9, \\ldots 10\\}$. Implement code that generates such a matrix."
   ]
  },
  {
   "cell_type": "code",
   "execution_count": 20,
   "metadata": {},
   "outputs": [
    {
     "data": {
      "text/plain": [
       "\n",
       "[[-1.00000000e+01  9.80099945e+01 -9.41192078e+02  8.85292676e+03\n",
       "  -8.15372812e+04  7.35091875e+05 -6.48477400e+06  5.59581920e+07\n",
       "  -4.72161280e+08  3.89416294e+09 -3.13810596e+10  2.46990275e+11\n",
       "  -1.89790670e+12  1.42321134e+13 -1.04106316e+14  7.42510859e+14\n",
       "  -5.16116234e+15  3.49466736e+16 -2.30389674e+17  1.47808970e+18]\n",
       " [-8.00000000e+00  6.24099998e+01 -4.74552032e+02  3.51530371e+03\n",
       "  -2.53552520e+04  1.77978516e+05 -1.21512812e+06  8.06460250e+06\n",
       "  -5.19986840e+07  3.25524288e+08 -1.97732659e+09  1.16463319e+10\n",
       "  -6.64685240e+10  3.67322071e+11 -1.96407892e+12  1.01534516e+13\n",
       "  -5.07060400e+13  2.44416288e+14 -1.13616609e+15  5.08857954e+15]\n",
       " [-6.00000000e+00  3.48100014e+01 -1.95112015e+02  1.05559998e+03\n",
       "  -5.50731738e+03  2.76806406e+04 -1.33892531e+05  6.22597062e+05\n",
       "  -2.77990500e+06  1.19042400e+07 -4.88281240e+07  1.91581280e+08\n",
       "  -7.18019648e+08  2.56666829e+09 -8.73710080e+09  2.82748436e+10\n",
       "  -8.68351672e+10  2.52599534e+11 -6.94602170e+11  1.80167691e+12]\n",
       " [-4.00000000e+00  1.52100010e+01 -5.48719978e+01  1.87416107e+02\n",
       "  -6.04661682e+02  1.83826562e+03 -5.25233594e+03  1.40640840e+04\n",
       "  -3.51843750e+04  8.19628047e+04 -1.77147000e+05  3.53814938e+05\n",
       "  -6.50211000e+05  1.09419012e+06 -1.67725850e+06  2.32830650e+06\n",
       "  -2.90798000e+06  3.24414975e+06 -3.20649900e+06  2.78218175e+06]\n",
       " [-2.00000000e+00  3.60999990e+00 -5.83199978e+00  8.35210133e+00\n",
       "  -1.04857607e+01  1.13906250e+01 -1.05413494e+01  8.15730476e+00\n",
       "  -5.15978241e+00  2.59374309e+00 -1.00000000e+00  2.82429427e-01\n",
       "  -5.49755916e-02  6.78222906e-03 -4.70185274e-04  1.52587891e-05\n",
       "  -1.71798746e-07  3.87420762e-10 -5.24288153e-14  1.00000029e-20]\n",
       " [-3.55271368e-14  1.00000007e-02  8.00000038e-03  8.10000114e-03\n",
       "   1.02400007e-02  1.56250000e-02  2.79936083e-02  5.76480031e-02\n",
       "   1.34217739e-01  3.48678321e-01  1.00000000e+00  3.13842916e+00\n",
       "   1.06993265e+01  3.93737450e+01  1.55568054e+02  6.56840820e+02\n",
       "   2.95147998e+03  1.40630918e+04  7.08234922e+04  3.75899625e+05]\n",
       " [ 2.00000000e+00  4.40999937e+00  1.06480007e+01  2.79840984e+01\n",
       "   7.96262512e+01  2.44140625e+02  8.03180786e+02  2.82429565e+03\n",
       "   1.05784551e+04  4.20707383e+04  1.77147000e+05  7.87662500e+05\n",
       "   3.68934950e+06  1.81633140e+07  9.37959200e+07  5.07094240e+08\n",
       "   2.86511642e+09  1.68900588e+10  1.03726137e+11  6.62662414e+11]\n",
       " [ 4.00000000e+00  1.68099995e+01  7.40879898e+01  3.41880157e+02\n",
       "   1.64916235e+03  8.30376562e+03  4.35817578e+04  2.38112781e+05\n",
       "   1.35260600e+06  7.97922800e+06  4.88281240e+07  3.09629280e+08\n",
       "   2.03255949e+09  1.37994691e+10  9.68069366e+10  7.01137224e+11\n",
       "   5.23837217e+12  4.03410424e+13  3.19986875e+14  2.61240419e+15]\n",
       " [ 6.00000000e+00  3.72099991e+01  2.38327972e+02  1.57529626e+03\n",
       "   1.07374189e+04  7.54188906e+04  5.45516000e+05  4.06067575e+06\n",
       "   3.10871080e+07  2.44619440e+08  1.97732659e+09  1.64096788e+10\n",
       "   1.39740496e+11  1.22045058e+12  1.09263695e+13  1.00225956e+14\n",
       "   9.41523068e+14  9.05384045e+15  8.90835745e+16  8.96482683e+17]\n",
       " [ 8.00000000e+00  6.56100082e+01  5.51367981e+02  4.74583252e+03\n",
       "   4.18211836e+04  3.77149500e+05  3.47927925e+06  3.28211620e+07\n",
       "   3.16478432e+08  3.11817062e+09  3.13810596e+10  3.22475655e+11\n",
       "   3.38253002e+12  3.62044059e+13  3.95291543e+14  4.40126666e+15\n",
       "   4.99587160e+16  5.77950934e+17  6.81232885e+18  8.17906469e+19]]\n",
       "<NDArray 10x20 @cpu(0)>"
      ]
     },
     "execution_count": 20,
     "metadata": {},
     "output_type": "execute_result"
    }
   ],
   "source": [
    "x = nd.array(np.arange(-10, 10, 0.1)).reshape(10, 20)\n",
    "j = nd.array(np.arange(1, 21))\n",
    "A = x**j\n",
    "A"
   ]
  },
  {
   "cell_type": "code",
   "execution_count": null,
   "metadata": {},
   "outputs": [],
   "source": []
  }
 ],
 "metadata": {
  "kernelspec": {
   "display_name": "Python 3",
   "language": "python",
   "name": "python3"
  },
  "language_info": {
   "codemirror_mode": {
    "name": "ipython",
    "version": 3
   },
   "file_extension": ".py",
   "mimetype": "text/x-python",
   "name": "python",
   "nbconvert_exporter": "python",
   "pygments_lexer": "ipython3",
   "version": "3.6.8"
  }
 },
 "nbformat": 4,
 "nbformat_minor": 2
}
